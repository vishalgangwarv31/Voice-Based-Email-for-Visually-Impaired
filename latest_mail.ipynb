{
 "cells": [
  {
   "cell_type": "markdown",
   "metadata": {},
   "source": [
    "## Function to Read Latest Mail from Inbox"
   ]
  },
  {
   "cell_type": "code",
   "execution_count": null,
   "metadata": {},
   "outputs": [],
   "source": [
    "#Function to read latest mail from the inbox\n",
    "\n",
    "def searchmail(): \n",
    "    \n",
    "    stat, total = imap.select('Inbox') #to select inbox   \n",
    "    \n",
    "    result, data = imap.uid('search',None, \"ALL\") #search mails\n",
    "    inbox_item_list = data[0].split()\n",
    "    \n",
    "    new = inbox_item_list[-1] #fetching mails from last                 \n",
    "    #old = inbox_item_list[0] #fetching mails from start\n",
    "    \n",
    "    result2, email_data = imap.uid('fetch', new, '(RFC822)')  #fetching mail information\n",
    "    \n",
    "    raw_email = email_data[0][1].decode(\"utf-8\") #decoding utf-8 encoding                                            \n",
    "    email_message = email.message_from_string(raw_email)\n",
    "    \n",
    "    print (\"From: \"+email_message['From'])\n",
    "    print (\"Subject: \"+str(email_message['Subject']))\n",
    "    \n",
    "    stat, data1 = imap.fetch(total[0], \"(UID BODY[TEXT])\")\n",
    "    msg = data1[0][1]\n",
    "    soup = BeautifulSoup(msg, \"html.parser\") #using Beautifulsoup to parse some content from a html page\n",
    "    txt = soup.get_text()\n",
    "    print (\"Body :\"+txt)\n",
    "    \n",
    "    #reading from,subject and body of the latest mail\n",
    "    ts = gTTS(text=\"From: \"+email_message['From']+\" .Your subject: \"+str(email_message['Subject'])+\" .body of the mail: \"+txt, lang='en')\n",
    "    tsname=(\"C:/Users/user/Desktop/mail.mp3\") #path -> C:/Users/user/Desktop> just change with your desktop directory\n",
    "    ts.save(tsname)\n",
    "    voice(tsname)"
   ]
  }
 ],
 "metadata": {
  "kernelspec": {
   "display_name": "Python 3",
   "language": "python",
   "name": "python3"
  },
  "language_info": {
   "codemirror_mode": {
    "name": "ipython",
    "version": 3
   },
   "file_extension": ".py",
   "mimetype": "text/x-python",
   "name": "python",
   "nbconvert_exporter": "python",
   "pygments_lexer": "ipython3",
   "version": "3.8.5"
  }
 },
 "nbformat": 4,
 "nbformat_minor": 4
}
