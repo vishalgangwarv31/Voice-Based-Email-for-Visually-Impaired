{
 "cells": [
  {
   "cell_type": "markdown",
   "metadata": {},
   "source": [
    "## Function to read Sent Mails"
   ]
  },
  {
   "cell_type": "code",
   "execution_count": null,
   "metadata": {},
   "outputs": [],
   "source": [
    "#Function to read sent mails from the sent box\n",
    "\n",
    "def readsent():\n",
    "    \n",
    "    imap.select('\"[Gmail]/Sent Mail\"',readonly = True) #fetching sent mails\n",
    "    response, messages = imap.search(None,'ALL')\n",
    "    messages = messages[0].split()           \n",
    "    \n",
    "    latest = int(messages[-1]) #fetching mails from last\n",
    "    #oldest = int(messages[0]) #fetching mails from start\n",
    "    \n",
    "    #reading all sent mails upto n\n",
    "    for i in range(latest, latest-int(text), -1):\n",
    "        \n",
    "        #fetching mail information\n",
    "        res, msg = imap.fetch(str(i), \"(RFC822)\")\n",
    "        \n",
    "        for response in msg:\n",
    "            if isinstance(response, tuple):\n",
    "                \n",
    "                #message_from_bytes(s) returns a message object structure from a string\n",
    "                msg = email.message_from_bytes(response[1])\n",
    "                \n",
    "                #to read date of the mail\n",
    "                print(msg[\"Date\"])\n",
    "                ts = gTTS(text=\"Date :\"+str(msg[\"Date\"]), lang='en')\n",
    "                tsname=(\"C:/Users/user/Desktop/time.mp3\") #path -> C:/Users/user/Desktop> just change with your desktop directory\n",
    "                ts.save(tsname)\n",
    "                voice(tsname)\n",
    "                \n",
    "                #to read receiver of the mail\n",
    "                print(\"To: \"+msg[\"To\"])\n",
    "                ts = gTTS(text=\"To :\"+str(msg[\"To\"]), lang='en')\n",
    "                tsname=(\"C:/Users/user/Desktop/to.mp3\") #path -> C:/Users/user/Desktop> just change with your desktop directory\n",
    "                ts.save(tsname)\n",
    "                voice(tsname)\n",
    "                \n",
    "                #to read subject of the mail\n",
    "                print(msg[\"Subject\"])\n",
    "                ts = gTTS(text=\"Subject :\"+str(msg[\"Subject\"]), lang='en')\n",
    "                tsname=(\"C:/Users/user/Desktop/subject.mp3\") #path -> C:/Users/user/Desktop> just change with your desktop directory\n",
    "                ts.save(tsname)\n",
    "                voice(tsname)"
   ]
  }
 ],
 "metadata": {
  "kernelspec": {
   "display_name": "Python 3",
   "language": "python",
   "name": "python3"
  },
  "language_info": {
   "codemirror_mode": {
    "name": "ipython",
    "version": 3
   },
   "file_extension": ".py",
   "mimetype": "text/x-python",
   "name": "python",
   "nbconvert_exporter": "python",
   "pygments_lexer": "ipython3",
   "version": "3.8.5"
  }
 },
 "nbformat": 4,
 "nbformat_minor": 4
}
