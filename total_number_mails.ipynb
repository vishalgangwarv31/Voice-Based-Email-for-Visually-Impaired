{
 "cells": [
  {
   "cell_type": "markdown",
   "metadata": {},
   "source": [
    "## Function to Count Total number of Mails in Inbox"
   ]
  },
  {
   "cell_type": "code",
   "execution_count": 1,
   "metadata": {},
   "outputs": [],
   "source": [
    "#Function to count total number of mails in the inbox\n",
    "\n",
    "def countmails():\n",
    "    \n",
    "    imap.select(\"inbox\") #to select inbox \n",
    "    \n",
    "    typ, messageIDs = imap.search(None, \"ALL\") #to fetch all inbox mails\n",
    "    \n",
    "    messageIDsString = str( messageIDs[0], encoding='utf8' )\n",
    "    listOfSplitStrings = messageIDsString.split(\" \") #split to get individual IDs\n",
    "    \n",
    "    print (\"Number of mails in your inbox :\"+str(len(listOfSplitStrings))) #length of listOfSplitStrings is total mails present\n",
    "    ts = gTTS(text=\"Total Number of mails in your inbox are :\"+str(len(listOfSplitStrings)), lang='en')\n",
    "    \n",
    "    tsname=(\"C:/Users/user/Desktop/total.mp3\") #Example: path -> C:\\Users\\user\\Desktop> just change with your desktop directory\n",
    "    ts.save(tsname)\n",
    "    voice(tsname)"
   ]
  }
 ],
 "metadata": {
  "kernelspec": {
   "display_name": "Python 3",
   "language": "python",
   "name": "python3"
  },
  "language_info": {
   "codemirror_mode": {
    "name": "ipython",
    "version": 3
   },
   "file_extension": ".py",
   "mimetype": "text/x-python",
   "name": "python",
   "nbconvert_exporter": "python",
   "pygments_lexer": "ipython3",
   "version": "3.8.5"
  }
 },
 "nbformat": 4,
 "nbformat_minor": 4
}
