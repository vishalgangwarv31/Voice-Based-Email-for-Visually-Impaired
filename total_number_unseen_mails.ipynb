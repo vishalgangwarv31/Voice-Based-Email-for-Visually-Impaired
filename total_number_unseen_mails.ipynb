{
 "cells": [
  {
   "cell_type": "markdown",
   "metadata": {},
   "source": [
    "## Function to Count total number of Unseen mails"
   ]
  },
  {
   "cell_type": "code",
   "execution_count": 1,
   "metadata": {},
   "outputs": [],
   "source": [
    "#Function to count total number of unseen mails in the inbox\n",
    "\n",
    "def countunseen():\n",
    "    \n",
    "    imap.select(\"inbox\") #to select inbox \n",
    "    print(\"Checking for new e-mails for \",sender,\".\", sep='')\n",
    "    typ, messageIDs = imap.search(None, \"UNSEEN\") #to fetch unseen inbox mails\n",
    "    messageIDsString = str( messageIDs[0], encoding='utf8' )\n",
    "    listOfSplitStrings = messageIDsString.split(\" \") #split to get individual IDs\n",
    "    \n",
    "    #length of listOfSplitStrings is total unseen mails present\n",
    "    \n",
    "    if len(listOfSplitStrings) == 0:\n",
    "        print(\"You have no new e-mails.\")\n",
    "        ts = gTTS(text=\"You have no new e-mails.\", lang='en')                              \n",
    "        tsname=(\"C:/Users/user/Desktop/unseen.mp3\") #path -> C:/Users/user/Desktop> just change with your desktop directory\n",
    "        ts.save(tsname)\n",
    "        voice(tsname)\n",
    "        \n",
    "    elif len(listOfSplitStrings) == 1:\n",
    "        print(\"You have\",len(listOfSplitStrings),\"new e-mail.\")\n",
    "        ts = gTTS(text=\"You have one unseen email\", lang='en')                              \n",
    "        tsname=(\"C:/Users/user/Desktop/unseen.mp3\") #path -> C:/Users/user/Desktop> just change with your desktop directory\n",
    "        ts.save(tsname)\n",
    "        voice(tsname)\n",
    "        \n",
    "    else:\n",
    "        print(\"You have\",len(listOfSplitStrings),\"new e-mails.\")\n",
    "        ts = gTTS(text=\"Total Number of unseen mails in your inbox are :\"+str(len(listOfSplitStrings)), lang='en')           \n",
    "        tsname=(\"C:/Users/user/Desktop/unseen.mp3\") #path -> C:/Users/user/Desktop> just change with your desktop directory\n",
    "        ts.save(tsname)\n",
    "        voice(tsname)"
   ]
  }
 ],
 "metadata": {
  "kernelspec": {
   "display_name": "Python 3",
   "language": "python",
   "name": "python3"
  },
  "language_info": {
   "codemirror_mode": {
    "name": "ipython",
    "version": 3
   },
   "file_extension": ".py",
   "mimetype": "text/x-python",
   "name": "python",
   "nbconvert_exporter": "python",
   "pygments_lexer": "ipython3",
   "version": "3.8.5"
  }
 },
 "nbformat": 4,
 "nbformat_minor": 4
}
