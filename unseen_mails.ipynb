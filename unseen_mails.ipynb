{
 "cells": [
  {
   "cell_type": "markdown",
   "metadata": {},
   "source": [
    "## Function to read Unseen Mails from the Inbox"
   ]
  },
  {
   "cell_type": "code",
   "execution_count": null,
   "metadata": {},
   "outputs": [],
   "source": [
    "#Function to read unseen mails from the inbox\n",
    "\n",
    "def readunseen():\n",
    "    \n",
    "    imap.select('\"[Gmail]/All Mail\"',readonly = True)\n",
    "    response, messages = imap.search(None,'UnSeen') #to fetch all unseen mails in inbox\n",
    "    messages = messages[0].split()\n",
    "    \n",
    "    try: \n",
    "        latest = int(messages[-1]) #fetching mails from last\n",
    "        \n",
    "    except IndexError:\n",
    "        print(\"No Unseen Mails\")\n",
    "        ts = gTTS(\"You have no unseen mails\", lang='en')\n",
    "        tsname=(\"C:/Users/user/Desktop/nounseen.mp3\") #path -> C:/Users/user/Desktop> just change with your desktop directory\n",
    "        ts.save(tsname)\n",
    "        voice(tsname)\n",
    "        return\n",
    "    \n",
    "    #reading all unseen mails upto n\n",
    "    for i in range(latest, latest-int(text), -1):\n",
    "        \n",
    "        #fetching mail information\n",
    "        res, msg = imap.fetch(str(i), \"(RFC822)\") \n",
    "        \n",
    "        for response in msg:\n",
    "            if isinstance(response, tuple):\n",
    "                \n",
    "                #message_from_bytes(s) returns a message object structure from a string\n",
    "                msg = email.message_from_bytes(response[1])\n",
    "                \n",
    "                #to read date of the mail\n",
    "                print(msg[\"Date\"])\n",
    "                ts = gTTS(text=\"Date :\"+str(msg[\"Date\"]), lang='en')\n",
    "                tsname=(\"C:/Users/user/Desktop/time.mp3\") #path -> C:/Users/user/Desktop> just change with your desktop directory\n",
    "                ts.save(tsname)\n",
    "                voice(tsname)\n",
    "                \n",
    "                #to read sender of the mail\n",
    "                print(\"From: \"+msg[\"From\"])\n",
    "                ts = gTTS(text=\"From :\"+str(msg[\"From\"]), lang='en')\n",
    "                tsname=(\"C:/Users/user/Desktop/from.mp3\") #path -> C:/Users/user/Desktop> just change with your desktop directory\n",
    "                ts.save(tsname)\n",
    "                voice(tsname)\n",
    "                \n",
    "                #to read subject of the mail\n",
    "                print(\"Subject: \"+msg[\"Subject\"])\n",
    "                ts = gTTS(text=\"Subject :\"+str(msg[\"Subject\"]), lang='en')\n",
    "                tsname=(\"C:/Users/user/Desktop/subject.mp3\") #path -> C:/Users/user/Desktop> just change with your desktop directory\n",
    "                ts.save(tsname)\n",
    "                voice(tsname)"
   ]
  }
 ],
 "metadata": {
  "kernelspec": {
   "display_name": "Python 3",
   "language": "python",
   "name": "python3"
  },
  "language_info": {
   "codemirror_mode": {
    "name": "ipython",
    "version": 3
   },
   "file_extension": ".py",
   "mimetype": "text/x-python",
   "name": "python",
   "nbconvert_exporter": "python",
   "pygments_lexer": "ipython3",
   "version": "3.8.5"
  }
 },
 "nbformat": 4,
 "nbformat_minor": 4
}
